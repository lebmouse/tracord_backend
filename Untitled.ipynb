{
 "cells": [
  {
   "cell_type": "code",
   "execution_count": 1,
   "metadata": {},
   "outputs": [],
   "source": [
    "from post.models import Post"
   ]
  },
  {
   "cell_type": "code",
   "execution_count": 6,
   "metadata": {},
   "outputs": [],
   "source": [
    "posts = Post.objects.all()"
   ]
  },
  {
   "cell_type": "code",
   "execution_count": 7,
   "metadata": {},
   "outputs": [
    {
     "data": {
      "text/plain": [
       "<QuerySet [<Post: Post object (2)>, <Post: Post object (1)>, <Post: Post object (3)>]>"
      ]
     },
     "execution_count": 7,
     "metadata": {},
     "output_type": "execute_result"
    }
   ],
   "source": [
    "posts"
   ]
  },
  {
   "cell_type": "code",
   "execution_count": 8,
   "metadata": {},
   "outputs": [
    {
     "data": {
      "text/plain": [
       "django.db.models.query.QuerySet"
      ]
     },
     "execution_count": 8,
     "metadata": {},
     "output_type": "execute_result"
    }
   ],
   "source": [
    "type(posts)"
   ]
  },
  {
   "cell_type": "code",
   "execution_count": 10,
   "metadata": {},
   "outputs": [],
   "source": [
    "post1 = posts[0]"
   ]
  },
  {
   "cell_type": "code",
   "execution_count": 14,
   "metadata": {},
   "outputs": [
    {
     "data": {
      "text/plain": [
       "['DoesNotExist',\n",
       " 'MultipleObjectsReturned',\n",
       " '__class__',\n",
       " '__delattr__',\n",
       " '__dict__',\n",
       " '__dir__',\n",
       " '__doc__',\n",
       " '__eq__',\n",
       " '__format__',\n",
       " '__ge__',\n",
       " '__getattribute__',\n",
       " '__getstate__',\n",
       " '__gt__',\n",
       " '__hash__',\n",
       " '__init__',\n",
       " '__init_subclass__',\n",
       " '__le__',\n",
       " '__lt__',\n",
       " '__module__',\n",
       " '__ne__',\n",
       " '__new__',\n",
       " '__reduce__',\n",
       " '__reduce_ex__',\n",
       " '__repr__',\n",
       " '__setattr__',\n",
       " '__setstate__',\n",
       " '__sizeof__',\n",
       " '__str__',\n",
       " '__subclasshook__',\n",
       " '__weakref__',\n",
       " '_check_column_name_clashes',\n",
       " '_check_field_name_clashes',\n",
       " '_check_fields',\n",
       " '_check_id_field',\n",
       " '_check_index_together',\n",
       " '_check_indexes',\n",
       " '_check_local_fields',\n",
       " '_check_long_column_names',\n",
       " '_check_m2m_through_same_relationship',\n",
       " '_check_managers',\n",
       " '_check_model',\n",
       " '_check_model_name_db_lookup_clashes',\n",
       " '_check_ordering',\n",
       " '_check_property_name_related_field_accessor_clashes',\n",
       " '_check_single_primary_key',\n",
       " '_check_swappable',\n",
       " '_check_unique_together',\n",
       " '_do_insert',\n",
       " '_do_update',\n",
       " '_get_FIELD_display',\n",
       " '_get_next_or_previous_by_FIELD',\n",
       " '_get_next_or_previous_in_order',\n",
       " '_get_pk_val',\n",
       " '_get_unique_checks',\n",
       " '_meta',\n",
       " '_perform_date_checks',\n",
       " '_perform_unique_checks',\n",
       " '_save_parents',\n",
       " '_save_table',\n",
       " '_set_pk_val',\n",
       " '_state',\n",
       " 'check',\n",
       " 'clean',\n",
       " 'clean_fields',\n",
       " 'content',\n",
       " 'cover_img',\n",
       " 'create_at',\n",
       " 'date_error_message',\n",
       " 'delete',\n",
       " 'from_db',\n",
       " 'full_clean',\n",
       " 'get_deferred_fields',\n",
       " 'get_next_by_create_at',\n",
       " 'get_previous_by_create_at',\n",
       " 'id',\n",
       " 'location',\n",
       " 'objects',\n",
       " 'pk',\n",
       " 'prepare_database_save',\n",
       " 'refresh_from_db',\n",
       " 'save',\n",
       " 'save_base',\n",
       " 'serializable_value',\n",
       " 'singer',\n",
       " 'temperature',\n",
       " 'title',\n",
       " 'unique_error_message',\n",
       " 'validate_unique']"
      ]
     },
     "execution_count": 14,
     "metadata": {},
     "output_type": "execute_result"
    }
   ],
   "source": [
    "dir(post1)"
   ]
  },
  {
   "cell_type": "code",
   "execution_count": 16,
   "metadata": {},
   "outputs": [
    {
     "data": {
      "text/plain": [
       "2019"
      ]
     },
     "execution_count": 16,
     "metadata": {},
     "output_type": "execute_result"
    }
   ],
   "source": [
    "post1.create_at.year"
   ]
  },
  {
   "cell_type": "code",
   "execution_count": 17,
   "metadata": {},
   "outputs": [
    {
     "data": {
      "text/plain": [
       "['__add__',\n",
       " '__class__',\n",
       " '__delattr__',\n",
       " '__dir__',\n",
       " '__doc__',\n",
       " '__eq__',\n",
       " '__format__',\n",
       " '__ge__',\n",
       " '__getattribute__',\n",
       " '__gt__',\n",
       " '__hash__',\n",
       " '__init__',\n",
       " '__init_subclass__',\n",
       " '__le__',\n",
       " '__lt__',\n",
       " '__ne__',\n",
       " '__new__',\n",
       " '__radd__',\n",
       " '__reduce__',\n",
       " '__reduce_ex__',\n",
       " '__repr__',\n",
       " '__rsub__',\n",
       " '__setattr__',\n",
       " '__sizeof__',\n",
       " '__str__',\n",
       " '__sub__',\n",
       " '__subclasshook__',\n",
       " 'astimezone',\n",
       " 'combine',\n",
       " 'ctime',\n",
       " 'date',\n",
       " 'day',\n",
       " 'dst',\n",
       " 'fold',\n",
       " 'fromordinal',\n",
       " 'fromtimestamp',\n",
       " 'hour',\n",
       " 'isocalendar',\n",
       " 'isoformat',\n",
       " 'isoweekday',\n",
       " 'max',\n",
       " 'microsecond',\n",
       " 'min',\n",
       " 'minute',\n",
       " 'month',\n",
       " 'now',\n",
       " 'replace',\n",
       " 'resolution',\n",
       " 'second',\n",
       " 'strftime',\n",
       " 'strptime',\n",
       " 'time',\n",
       " 'timestamp',\n",
       " 'timetuple',\n",
       " 'timetz',\n",
       " 'today',\n",
       " 'toordinal',\n",
       " 'tzinfo',\n",
       " 'tzname',\n",
       " 'utcfromtimestamp',\n",
       " 'utcnow',\n",
       " 'utcoffset',\n",
       " 'utctimetuple',\n",
       " 'weekday',\n",
       " 'year']"
      ]
     },
     "execution_count": 17,
     "metadata": {},
     "output_type": "execute_result"
    }
   ],
   "source": [
    "dir(post1.create_at)"
   ]
  },
  {
   "cell_type": "code",
   "execution_count": 28,
   "metadata": {},
   "outputs": [],
   "source": [
    "pd1 = post1.create_at"
   ]
  },
  {
   "cell_type": "code",
   "execution_count": 30,
   "metadata": {},
   "outputs": [],
   "source": [
    "import PIL"
   ]
  },
  {
   "cell_type": "code",
   "execution_count": 33,
   "metadata": {},
   "outputs": [],
   "source": [
    "from PIL import Image"
   ]
  },
  {
   "cell_type": "code",
   "execution_count": 35,
   "metadata": {},
   "outputs": [
    {
     "data": {
      "text/plain": [
       "['ADAPTIVE',\n",
       " 'AFFINE',\n",
       " 'ANTIALIAS',\n",
       " 'BICUBIC',\n",
       " 'BILINEAR',\n",
       " 'BOX',\n",
       " 'CONTAINER',\n",
       " 'CUBIC',\n",
       " 'Callable',\n",
       " 'DECODERS',\n",
       " 'DEFAULT_STRATEGY',\n",
       " 'DecompressionBombError',\n",
       " 'DecompressionBombWarning',\n",
       " 'ENCODERS',\n",
       " 'EXTENSION',\n",
       " 'EXTENT',\n",
       " 'FASTOCTREE',\n",
       " 'FILTERED',\n",
       " 'FIXED',\n",
       " 'FLIP_LEFT_RIGHT',\n",
       " 'FLIP_TOP_BOTTOM',\n",
       " 'FLOYDSTEINBERG',\n",
       " 'HAMMING',\n",
       " 'HAS_PATHLIB',\n",
       " 'HUFFMAN_ONLY',\n",
       " 'ID',\n",
       " 'Image',\n",
       " 'ImageMode',\n",
       " 'ImagePointHandler',\n",
       " 'ImageTransformHandler',\n",
       " 'LANCZOS',\n",
       " 'LIBIMAGEQUANT',\n",
       " 'LINEAR',\n",
       " 'MAXCOVERAGE',\n",
       " 'MAX_IMAGE_PIXELS',\n",
       " 'MEDIANCUT',\n",
       " 'MESH',\n",
       " 'MIME',\n",
       " 'MODES',\n",
       " 'NEAREST',\n",
       " 'NONE',\n",
       " 'NORMAL',\n",
       " 'OPEN',\n",
       " 'ORDERED',\n",
       " 'PERSPECTIVE',\n",
       " 'PILLOW_VERSION',\n",
       " 'Path',\n",
       " 'QUAD',\n",
       " 'RASTERIZE',\n",
       " 'RLE',\n",
       " 'ROTATE_180',\n",
       " 'ROTATE_270',\n",
       " 'ROTATE_90',\n",
       " 'SAVE',\n",
       " 'SAVE_ALL',\n",
       " 'SEQUENCE',\n",
       " 'TRANSPOSE',\n",
       " 'TRANSVERSE',\n",
       " 'USE_CFFI_ACCESS',\n",
       " 'VERSION',\n",
       " 'WEB',\n",
       " '_E',\n",
       " '_ENDIAN',\n",
       " '_MAPMODES',\n",
       " '_MODEINFO',\n",
       " '_MODE_CONV',\n",
       " '__builtins__',\n",
       " '__cached__',\n",
       " '__doc__',\n",
       " '__file__',\n",
       " '__loader__',\n",
       " '__name__',\n",
       " '__package__',\n",
       " '__spec__',\n",
       " '__version__',\n",
       " '_apply_env_variables',\n",
       " '_check_size',\n",
       " '_conv_type_shape',\n",
       " '_decompression_bomb_check',\n",
       " '_fromarray_typemap',\n",
       " '_getdecoder',\n",
       " '_getencoder',\n",
       " '_getscaleoffset',\n",
       " '_imaging_not_installed',\n",
       " '_initialized',\n",
       " '_plugins',\n",
       " '_show',\n",
       " '_showxv',\n",
       " '_wedge',\n",
       " 'alpha_composite',\n",
       " 'atexit',\n",
       " 'blend',\n",
       " 'builtins',\n",
       " 'cffi',\n",
       " 'coerce_e',\n",
       " 'composite',\n",
       " 'core',\n",
       " 'deferred_error',\n",
       " 'effect_mandelbrot',\n",
       " 'effect_noise',\n",
       " 'eval',\n",
       " 'fromarray',\n",
       " 'frombuffer',\n",
       " 'frombytes',\n",
       " 'fromqimage',\n",
       " 'fromqpixmap',\n",
       " 'fromstring',\n",
       " 'getmodebandnames',\n",
       " 'getmodebands',\n",
       " 'getmodebase',\n",
       " 'getmodetype',\n",
       " 'i8',\n",
       " 'init',\n",
       " 'io',\n",
       " 'isImageType',\n",
       " 'isPath',\n",
       " 'isStringType',\n",
       " 'linear_gradient',\n",
       " 'logger',\n",
       " 'logging',\n",
       " 'math',\n",
       " 'merge',\n",
       " 'new',\n",
       " 'numbers',\n",
       " 'open',\n",
       " 'os',\n",
       " 'preinit',\n",
       " 'py3',\n",
       " 'radial_gradient',\n",
       " 'register_decoder',\n",
       " 'register_encoder',\n",
       " 'register_extension',\n",
       " 'register_extensions',\n",
       " 'register_mime',\n",
       " 'register_open',\n",
       " 'register_save',\n",
       " 'register_save_all',\n",
       " 'registered_extensions',\n",
       " 'struct',\n",
       " 'sys',\n",
       " 'warnings']"
      ]
     },
     "execution_count": 35,
     "metadata": {},
     "output_type": "execute_result"
    }
   ],
   "source": [
    "dir(Image)"
   ]
  },
  {
   "cell_type": "code",
   "execution_count": 37,
   "metadata": {},
   "outputs": [],
   "source": [
    "import datetime"
   ]
  },
  {
   "cell_type": "code",
   "execution_count": 40,
   "metadata": {},
   "outputs": [],
   "source": [
    "now = datetime.datetime.now().strftime('%Y%m%d')"
   ]
  },
  {
   "cell_type": "code",
   "execution_count": 43,
   "metadata": {},
   "outputs": [
    {
     "data": {
      "text/plain": [
       "datetime.datetime(2019, 5, 19, 15, 42, 58, 385879)"
      ]
     },
     "execution_count": 43,
     "metadata": {},
     "output_type": "execute_result"
    }
   ],
   "source": [
    "now"
   ]
  },
  {
   "cell_type": "code",
   "execution_count": 48,
   "metadata": {},
   "outputs": [
    {
     "data": {
      "text/plain": [
       "str"
      ]
     },
     "execution_count": 48,
     "metadata": {},
     "output_type": "execute_result"
    }
   ],
   "source": [
    "type(datetime.datetime.now().strftime('%Y%m%d'))"
   ]
  }
 ],
 "metadata": {
  "kernelspec": {
   "display_name": "Django Shell-Plus",
   "language": "python",
   "name": "django_extensions"
  },
  "language_info": {
   "codemirror_mode": {
    "name": "ipython",
    "version": 3
   },
   "file_extension": ".py",
   "mimetype": "text/x-python",
   "name": "python",
   "nbconvert_exporter": "python",
   "pygments_lexer": "ipython3",
   "version": "3.6.7"
  }
 },
 "nbformat": 4,
 "nbformat_minor": 2
}
